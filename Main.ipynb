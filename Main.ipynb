{
 "cells": [
  {
   "cell_type": "markdown",
   "metadata": {},
   "source": [
    "# You have this week to finish this coding competition. Result will be announced on Monday."
   ]
  },
  {
   "cell_type": "markdown",
   "metadata": {},
   "source": [
    "***"
   ]
  },
  {
   "cell_type": "markdown",
   "metadata": {},
   "source": [
    "## Tasks \n",
    "    [Note to self : Complete the tasks and git commit :P]\n",
    "\n",
    "   [x] Make a .csv file based on Hypopnea from data/apnea/data.xml (previously mesa-sleep-0001-profusion.xml)\n",
    "\n",
    "   [x] Convert the given mesa-sleep-0001.edf file into a csv file\n",
    "\n",
    "   [x] Make an analogy from .edf file to understand which column is flow(Flow data is sampled at 32 samples per second)\n",
    "\n",
    "   [x] Add the first column as time or Epoch, ime should start from 0 with consecutive steps of 1/32 second (see the output file requirement) \n",
    "\n",
    "   [x] Export label/EventType Stages|Stages which has a stage, startTime, and duration of a stage as csv (see the output file format.)\n",
    "   \n",
    "   [ ] Combine all these three files together in one file (like output/combined/mesa-sleep-0001.csv)\n",
    "   \n",
    "   \n",
    "   \n",
    "### lots of work\n",
    "   \n",
    "![alt text](https://media.giphy.com/media/5dlWYlh44HeQ8/giphy.gif \"AAAAAAAAAAAA\")\n",
    "\n",
    "Let's get down to work.."
   ]
  },
  {
   "cell_type": "markdown",
   "metadata": {},
   "source": [
    "## Task 1 @ Data processing data/apnea/data.xml"
   ]
  },
  {
   "cell_type": "code",
   "execution_count": 1,
   "metadata": {},
   "outputs": [
    {
     "name": "stderr",
     "output_type": "stream",
     "text": [
      "/home/courage/anaconda3/lib/python3.6/importlib/_bootstrap.py:219: RuntimeWarning: numpy.dtype size changed, may indicate binary incompatibility. Expected 96, got 88\n",
      "  return f(*args, **kwds)\n",
      "/home/courage/anaconda3/lib/python3.6/importlib/_bootstrap.py:219: RuntimeWarning: numpy.dtype size changed, may indicate binary incompatibility. Expected 96, got 88\n",
      "  return f(*args, **kwds)\n"
     ]
    }
   ],
   "source": [
    "import xml.etree.cElementTree as et\n",
    "import pandas as pd"
   ]
  },
  {
   "cell_type": "code",
   "execution_count": 2,
   "metadata": {},
   "outputs": [],
   "source": [
    "def getvalueofnode(node):\n",
    "    # return node text or None\n",
    "    return node.text if node is not None else None"
   ]
  },
  {
   "cell_type": "code",
   "execution_count": 3,
   "metadata": {},
   "outputs": [
    {
     "data": {
      "text/plain": [
       "<xml.etree.ElementTree.ElementTree at 0x7fd74c8dfac8>"
      ]
     },
     "execution_count": 3,
     "metadata": {},
     "output_type": "execute_result"
    }
   ],
   "source": [
    "parsed_xml = et.parse(\"data/apnea/data.xml\")\n",
    "parsed_xml"
   ]
  },
  {
   "cell_type": "code",
   "execution_count": 4,
   "metadata": {},
   "outputs": [
    {
     "data": {
      "text/plain": [
       "'CMPStudyConfig'"
      ]
     },
     "execution_count": 4,
     "metadata": {},
     "output_type": "execute_result"
    }
   ],
   "source": [
    "dfcols = ['Name', 'Start', 'Duration', 'Input']\n",
    "data = pd.DataFrame(columns=dfcols)\n",
    "root = parsed_xml.getroot()\n",
    "root.tag"
   ]
  },
  {
   "cell_type": "code",
   "execution_count": 5,
   "metadata": {},
   "outputs": [],
   "source": [
    "for node in root.iter(\"ScoredEvent\"):\n",
    "    name = node.find('Name')\n",
    "    start = node.find('Start')\n",
    "    duration = node.find('Duration')\n",
    "    iput = node.find('Input')\n",
    "\n",
    "    if(getvalueofnode(name) == \"Hypopnea\"):\n",
    "        data = data.append(\n",
    "        pd.Series([getvalueofnode(name), getvalueofnode(start), getvalueofnode(duration),\n",
    "                   getvalueofnode(iput)], index=dfcols),ignore_index=True)\n",
    "\n",
    "data.to_csv('out.csv', index=False)"
   ]
  },
  {
   "cell_type": "markdown",
   "metadata": {},
   "source": [
    "## It works!!!!\n",
    "\n",
    "![alt text](https://media.giphy.com/media/QFz0Acu7er6hy/giphy.gif \"Yes Did it\")\n",
    "\n",
    "### Attributions \n",
    " The Python Documentation on [The ElementTree XML API](https://docs.python.org/2/library/xml.etree.elementtree.html \"Why Just Hover?? The Documentation rocks\")"
   ]
  },
  {
   "cell_type": "markdown",
   "metadata": {},
   "source": [
    "## Task 2 @ Processing signals from data/flow/mesa-sleep-0001.edf "
   ]
  },
  {
   "cell_type": "code",
   "execution_count": 6,
   "metadata": {},
   "outputs": [
    {
     "name": "stdout",
     "output_type": "stream",
     "text": [
      "['EKG', 'EOG-L', 'EOG-R', 'EMG', 'EEG1', 'EEG2', 'EEG3', 'Pres', 'Flow', 'Snore', 'Thor', 'Abdo', 'Leg', 'Therm', 'Pos', 'EKG_Off', 'EOG-L_Off', 'EOG-R_Off', 'EMG_Off', 'EEG1_Off', 'EEG2_Off', 'EEG3_Off', 'Pleth', 'OxStatus', 'SpO2', 'HR', 'DHR']\n"
     ]
    }
   ],
   "source": [
    "import pyedflib\n",
    "import numpy as np\n",
    "\n",
    "f = pyedflib.EdfReader(\"data/flow/mesa-sleep-0001.edf\")\n",
    "n = f.signals_in_file\n",
    "signal_labels = f.getSignalLabels()\n",
    "print(signal_labels)"
   ]
  },
  {
   "cell_type": "code",
   "execution_count": 7,
   "metadata": {},
   "outputs": [
    {
     "name": "stdout",
     "output_type": "stream",
     "text": [
      "edfsignals: 27\n",
      "file duration: 43199 seconds\n",
      "startdate: 1-1-1985\n",
      "starttime: 20:29:59\n"
     ]
    }
   ],
   "source": [
    "print(\"edfsignals: %i\" % f.signals_in_file)\n",
    "print(\"file duration: %i seconds\" % f.file_duration)\n",
    "print(\"startdate: %i-%i-%i\" % (f.getStartdatetime().day,f.getStartdatetime().month,f.getStartdatetime().year))\n",
    "print(\"starttime: %i:%02i:%02i\" % (f.getStartdatetime().hour,f.getStartdatetime().minute,f.getStartdatetime().second))"
   ]
  },
  {
   "cell_type": "code",
   "execution_count": 8,
   "metadata": {},
   "outputs": [
    {
     "name": "stdout",
     "output_type": "stream",
     "text": [
      "datarecord duration: 43199.000000 seconds\n",
      "number of datarecords in the file: 43199\n",
      "number of annotations in the file: 0\n"
     ]
    }
   ],
   "source": [
    "print(\"datarecord duration: %f seconds\" % f.getFileDuration())\n",
    "print(\"number of datarecords in the file: %i\" % f.datarecords_in_file)\n",
    "print(\"number of annotations in the file: %i\" % f.annotations_in_file)"
   ]
  },
  {
   "cell_type": "code",
   "execution_count": 9,
   "metadata": {},
   "outputs": [
    {
     "name": "stdout",
     "output_type": "stream",
     "text": [
      "\n",
      "signal parameters for the 1.channel:\n",
      "\n",
      "\n",
      "label: EOG-L\n",
      "samples in file: 11058944\n",
      "samplefrequency: 256.000000\n"
     ]
    }
   ],
   "source": [
    "channel = 1\n",
    "print(\"\\nsignal parameters for the %d.channel:\\n\\n\" % channel)\n",
    "print(\"label: %s\" % f.getLabel(channel))\n",
    "print(\"samples in file: %i\" % f.getNSamples()[channel])\n",
    "print(\"samplefrequency: %f\" % f.getSampleFrequency(channel))\n"
   ]
  },
  {
   "cell_type": "code",
   "execution_count": 10,
   "metadata": {},
   "outputs": [
    {
     "name": "stdout",
     "output_type": "stream",
     "text": [
      "\n",
      "signal parameters for the 8.channel:\n",
      "\n",
      "\n",
      "label: Flow\n",
      "samples in file: 1382368\n",
      "samplefrequency: 32.000000\n"
     ]
    }
   ],
   "source": [
    "channel = 8\n",
    "print(\"\\nsignal parameters for the %d.channel:\\n\\n\" % channel)\n",
    "print(\"label: %s\" % f.getLabel(channel))\n",
    "print(\"samples in file: %i\" % f.getNSamples()[channel])\n",
    "print(\"samplefrequency: %f\" % f.getSampleFrequency(channel))\n"
   ]
  },
  {
   "cell_type": "markdown",
   "metadata": {},
   "source": [
    "As we see Flow signal are in the 8th channel (starting with oth channel) and the number of samples is 1382368."
   ]
  },
  {
   "cell_type": "code",
   "execution_count": 11,
   "metadata": {},
   "outputs": [],
   "source": [
    "channel = 8\n",
    "FlowSignal = f.readSignal(channel)\n",
    "samples = 1382368\n",
    "samplefreq = 32"
   ]
  },
  {
   "cell_type": "code",
   "execution_count": 12,
   "metadata": {},
   "outputs": [],
   "source": [
    "datacols = ['Epoch', 'Flow']"
   ]
  },
  {
   "cell_type": "code",
   "execution_count": 13,
   "metadata": {},
   "outputs": [],
   "source": [
    "# Maping Flow signals to 13 decimal place\n",
    "Flow = list(map(lambda x: \"%.13f\" % FlowSignal[x], np.arange(samples)))\n",
    "\n",
    "# Epochs\n",
    "Epoch = list(map(lambda x: x/samplefreq, range(samples)))"
   ]
  },
  {
   "cell_type": "code",
   "execution_count": 14,
   "metadata": {},
   "outputs": [],
   "source": [
    "data2_dirct = {\n",
    "    'Epoch' : Epoch,\n",
    "    'Flow' : Flow\n",
    "}"
   ]
  },
  {
   "cell_type": "code",
   "execution_count": 15,
   "metadata": {},
   "outputs": [
    {
     "name": "stdout",
     "output_type": "stream",
     "text": [
      "               Epoch              Flow\n",
      "0            0.00000  -0.0698558022431\n",
      "1            0.03125  -0.0892652780957\n",
      "2            0.06250  -0.0901808194095\n",
      "3            0.09375  -0.0916456855116\n",
      "4            0.12500  -0.0938429846647\n",
      "5            0.15625  -0.0967727168688\n",
      "6            0.18750  -0.0982375829709\n",
      "7            0.21875  -0.0976882581827\n",
      "8            0.25000  -0.0958571755550\n",
      "9            0.28125  -0.0898146028840\n",
      "10           0.31250  -0.0823071641108\n",
      "11           0.34375  -0.0747997253376\n",
      "12           0.37500  -0.0654612039368\n",
      "13           0.40625  -0.0568551155871\n",
      "14           0.43750  -0.0557564660105\n",
      "15           0.46875  -0.0581368734264\n",
      "16           0.50000  -0.0579537651637\n",
      "17           0.53125  -0.0563057907988\n",
      "18           0.56250  -0.0581368734264\n",
      "19           0.59375  -0.0603341725795\n",
      "20           0.62500  -0.0607003891051\n",
      "21           0.65625  -0.0625314717327\n",
      "22           0.68750  -0.0685740444038\n",
      "23           0.71875  -0.0716868848707\n",
      "24           0.75000  -0.0700389105058\n",
      "25           0.78125  -0.0720531013962\n",
      "26           0.81250  -0.0760814831769\n",
      "27           0.84375  -0.0764476997024\n",
      "28           0.87500  -0.0779125658045\n",
      "29           0.90625  -0.0801098649577\n",
      "...              ...               ...\n",
      "1382338  43198.06250  -0.0015564202335\n",
      "1382339  43198.09375  -0.0002746623941\n",
      "1382340  43198.12500   0.0015564202335\n",
      "1382341  43198.15625   0.0024719615473\n",
      "1382342  43198.18750   0.0046692607004\n",
      "1382343  43198.21875   0.0046692607004\n",
      "1382344  43198.25000   0.0000915541314\n",
      "1382345  43198.28125  -0.0008239871824\n",
      "1382346  43198.31250   0.0033875028611\n",
      "1382347  43198.34375   0.0037537193866\n",
      "1382348  43198.37500  -0.0008239871824\n",
      "1382349  43198.40625  -0.0015564202335\n",
      "1382350  43198.43750   0.0021057450217\n",
      "1382351  43198.46875   0.0030212863355\n",
      "1382352  43198.50000   0.0000915541314\n",
      "1382353  43198.53125  -0.0004577706569\n",
      "1382354  43198.56250   0.0008239871824\n",
      "1382355  43198.59375   0.0000915541314\n",
      "1382356  43198.62500  -0.0011902037079\n",
      "1382357  43198.65625   0.0002746623941\n",
      "1382358  43198.68750   0.0008239871824\n",
      "1382359  43198.71875  -0.0015564202335\n",
      "1382360  43198.75000   0.0000915541314\n",
      "1382361  43198.78125   0.0030212863355\n",
      "1382362  43198.81250   0.0000915541314\n",
      "1382363  43198.84375  -0.0033875028611\n",
      "1382364  43198.87500   0.0004577706569\n",
      "1382365  43198.90625   0.0037537193866\n",
      "1382366  43198.93750   0.0015564202335\n",
      "1382367  43198.96875   0.0002746623941\n",
      "\n",
      "[1382368 rows x 2 columns]\n"
     ]
    }
   ],
   "source": [
    "data2 = pd.DataFrame(data2_dirct, columns=datacols)\n",
    "print(data2)"
   ]
  },
  {
   "cell_type": "code",
   "execution_count": 16,
   "metadata": {},
   "outputs": [],
   "source": [
    "data2.to_csv('out2.csv', index=False)"
   ]
  },
  {
   "cell_type": "markdown",
   "metadata": {},
   "source": [
    "## YAAAY!!!\n",
    "\n",
    "![alt text](https://media.giphy.com/media/13SSghvwNGGW9W/giphy.gif)\n",
    "\n",
    "\n",
    "## Tasks Update\n",
    "    [Note to self : Complete the tasks and git commit :P]\n",
    "\n",
    "   [x] Make a .csv file based on Hypopnea from data/apnea/data.xml (previously mesa-sleep-0001-profusion.xml)\n",
    "\n",
    "   [x] Convert the given mesa-sleep-0001.edf file into a csv file\n",
    "\n",
    "   [x] Make an analogy from .edf file to understand which column is flow(Flow data is sampled at 32 samples per second)\n",
    "\n",
    "   [x] Add the first column as time or Epoch, ime should start from 0 with consecutive steps of 1/32 second (see the output file requirement) \n",
    "\n",
    "   [ ] Export label/EventType Stages|Stages which has a stage, startTime, and duration of a stage as csv (see the output file format.)\n",
    "   \n",
    "   [ ] Combine all these three files together in one file (like output/combined/mesa-sleep-0001.csv)\n",
    "   \n",
    "   \n",
    "### Attributions \n",
    "Got a better understandind of EDF files [here](https://sleepdata.org/forum/getting-started-with-edf-files). The Documentation of [pyedflib module](https://github.com/holgern/pyedflib \"Why Just Hover?? The Documentation rocks\"), specially the demo on how to use pyedflib.reader :D"
   ]
  },
  {
   "cell_type": "markdown",
   "metadata": {},
   "source": [
    "# Deadline Update by mBreath\n",
    "![alt text](imgs/deadline.png)\n",
    "\n",
    "![alt text](https://media.giphy.com/media/eEHgdX9bZVZHW/giphy.gif)"
   ]
  },
  {
   "cell_type": "markdown",
   "metadata": {},
   "source": [
    "## Task 3 @ data processing with data/stage/mesa-sleep-0001-nsrr.xml"
   ]
  },
  {
   "cell_type": "code",
   "execution_count": 17,
   "metadata": {},
   "outputs": [
    {
     "data": {
      "text/plain": [
       "<xml.etree.ElementTree.ElementTree at 0x7fd74c19b7f0>"
      ]
     },
     "execution_count": 17,
     "metadata": {},
     "output_type": "execute_result"
    }
   ],
   "source": [
    "data_xml = et.parse(\"data/stage/mesa-sleep-0001-nsrr.xml\")\n",
    "data_xml"
   ]
  },
  {
   "cell_type": "code",
   "execution_count": 18,
   "metadata": {},
   "outputs": [
    {
     "data": {
      "text/plain": [
       "'PSGAnnotation'"
      ]
     },
     "execution_count": 18,
     "metadata": {},
     "output_type": "execute_result"
    }
   ],
   "source": [
    "data3cols = ['Duration','Stages', 'Start', 'Type']\n",
    "data3 = pd.DataFrame(columns=data3cols)\n",
    "r = data_xml.getroot()\n",
    "r.tag"
   ]
  },
  {
   "cell_type": "code",
   "execution_count": 19,
   "metadata": {},
   "outputs": [],
   "source": [
    "for node in r.iter(\"ScoredEvent\"):\n",
    "    duration = node.find('Duration')\n",
    "    stages = node.find('EventType')\n",
    "    start = node.find('Start')\n",
    "    typee = node.find('EventConcept')\n",
    "\n",
    "    if(getvalueofnode(stages) == \"Stages|Stages\"):\n",
    "        data3 = data3.append(\n",
    "        pd.Series([getvalueofnode(duration), getvalueofnode(stages), getvalueofnode(start),\n",
    "                   getvalueofnode(typee)], index=data3cols),ignore_index=True)\n",
    "\n",
    "data3.to_csv('out3.csv', index=False)"
   ]
  },
  {
   "cell_type": "markdown",
   "metadata": {},
   "source": [
    "## Tasks Update\n",
    "    [Note to self : Complete the tasks and git commit :P]\n",
    "\n",
    "   [x] Make a .csv file based on Hypopnea from data/apnea/data.xml (previously mesa-sleep-0001-profusion.xml)\n",
    "\n",
    "   [x] Convert the given mesa-sleep-0001.edf file into a csv file\n",
    "\n",
    "   [x] Make an analogy from .edf file to understand which column is flow(Flow data is sampled at 32 samples per second)\n",
    "\n",
    "   [x] Add the first column as time or Epoch, ime should start from 0 with consecutive steps of 1/32 second (see the output file requirement) \n",
    "\n",
    "   [x] Export label/EventType Stages|Stages which has a stage, startTime, and duration of a stage as csv (see the output file format.)\n",
    "   \n",
    "   [ ] Combine all these three files together in one file (like output/combined/mesa-sleep-0001.csv)\n",
    "   \n",
    "   \n",
    "   "
   ]
  },
  {
   "cell_type": "code",
   "execution_count": null,
   "metadata": {},
   "outputs": [],
   "source": []
  }
 ],
 "metadata": {
  "kernelspec": {
   "display_name": "Python 3",
   "language": "python",
   "name": "python3"
  },
  "language_info": {
   "codemirror_mode": {
    "name": "ipython",
    "version": 3
   },
   "file_extension": ".py",
   "mimetype": "text/x-python",
   "name": "python",
   "nbconvert_exporter": "python",
   "pygments_lexer": "ipython3",
   "version": "3.6.5"
  }
 },
 "nbformat": 4,
 "nbformat_minor": 2
}
