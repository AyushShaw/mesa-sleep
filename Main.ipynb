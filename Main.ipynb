{
 "cells": [
  {
   "cell_type": "markdown",
   "metadata": {},
   "source": [
    "# You have this week to finish this coding competition. Result will be announced on Monday."
   ]
  },
  {
   "cell_type": "markdown",
   "metadata": {},
   "source": [
    "***"
   ]
  },
  {
   "cell_type": "markdown",
   "metadata": {},
   "source": [
    "## Tasks \n",
    "    [Note to self : Complete the tasks and git commit :P]\n",
    "\n",
    "   [x] Make a .csv file based on Hypopnea from data/apnea/data.xml (previously mesa-sleep-0001-profusion.xml)\n",
    "\n",
    "   [x] Convert the given mesa-sleep-0001.edf file into a csv file\n",
    "\n",
    "   [x] Make an analogy from .edf file to understand which column is flow(Flow data is sampled at 32 samples per second)\n",
    "\n",
    "   [x] Add the first column as time or Epoch, ime should start from 0 with consecutive steps of 1/32 second (see the output file requirement) \n",
    "\n",
    "   [x] Export label/EventType Stages|Stages which has a stage, startTime, and duration of a stage as csv (see the output file format.)\n",
    "   \n",
    "   [ ] Combine all these three files together in one file (like output/combined/mesa-sleep-0001.csv)\n",
    "   \n",
    "   \n",
    "   \n",
    "### lots of work\n",
    "   \n",
    "![alt text](https://media.giphy.com/media/5dlWYlh44HeQ8/giphy.gif \"AAAAAAAAAAAA\")\n",
    "\n",
    "Let's get down to work.."
   ]
  },
  {
   "cell_type": "markdown",
   "metadata": {},
   "source": [
    "## Task 1 @ Data processing data/apnea/data.xml"
   ]
  },
  {
   "cell_type": "code",
   "execution_count": 1,
   "metadata": {},
   "outputs": [
    {
     "name": "stderr",
     "output_type": "stream",
     "text": [
      "/home/courage/anaconda3/lib/python3.6/importlib/_bootstrap.py:219: RuntimeWarning: numpy.dtype size changed, may indicate binary incompatibility. Expected 96, got 88\n",
      "  return f(*args, **kwds)\n",
      "/home/courage/anaconda3/lib/python3.6/importlib/_bootstrap.py:219: RuntimeWarning: numpy.dtype size changed, may indicate binary incompatibility. Expected 96, got 88\n",
      "  return f(*args, **kwds)\n"
     ]
    }
   ],
   "source": [
    "import xml.etree.cElementTree as et\n",
    "import pandas as pd"
   ]
  },
  {
   "cell_type": "code",
   "execution_count": 2,
   "metadata": {},
   "outputs": [],
   "source": [
    "def getvalueofnode(node):\n",
    "    # return node text or None\n",
    "    return node.text if node is not None else None"
   ]
  },
  {
   "cell_type": "code",
   "execution_count": 3,
   "metadata": {},
   "outputs": [
    {
     "data": {
      "text/plain": [
       "<xml.etree.ElementTree.ElementTree at 0x7f53dc99d978>"
      ]
     },
     "execution_count": 3,
     "metadata": {},
     "output_type": "execute_result"
    }
   ],
   "source": [
    "parsed_xml = et.parse(\"data/apnea/data.xml\")\n",
    "parsed_xml"
   ]
  },
  {
   "cell_type": "code",
   "execution_count": 4,
   "metadata": {},
   "outputs": [
    {
     "data": {
      "text/plain": [
       "'CMPStudyConfig'"
      ]
     },
     "execution_count": 4,
     "metadata": {},
     "output_type": "execute_result"
    }
   ],
   "source": [
    "dfcols = ['Name', 'Start', 'Duration', 'Input']\n",
    "data = pd.DataFrame(columns=dfcols)\n",
    "root = parsed_xml.getroot()\n",
    "root.tag"
   ]
  },
  {
   "cell_type": "code",
   "execution_count": 5,
   "metadata": {},
   "outputs": [],
   "source": [
    "for node in root.iter(\"ScoredEvent\"):\n",
    "    name = node.find('Name')\n",
    "    start = node.find('Start')\n",
    "    duration = node.find('Duration')\n",
    "    iput = node.find('Input')\n",
    "\n",
    "    if(getvalueofnode(name) == \"Hypopnea\"):\n",
    "        data = data.append(\n",
    "        pd.Series([getvalueofnode(name), getvalueofnode(start), getvalueofnode(duration),\n",
    "                   getvalueofnode(iput)], index=dfcols),ignore_index=True)\n",
    "\n",
    "data.to_csv('out.csv', index=False)"
   ]
  },
  {
   "cell_type": "markdown",
   "metadata": {},
   "source": [
    "## It works!!!!\n",
    "\n",
    "![alt text](https://media.giphy.com/media/QFz0Acu7er6hy/giphy.gif \"Yes Did it\")\n",
    "\n",
    "### Attributions \n",
    " The Python Documentation on [The ElementTree XML API](https://docs.python.org/2/library/xml.etree.elementtree.html \"Why Just Hover?? The Documentation rocks\")"
   ]
  },
  {
   "cell_type": "markdown",
   "metadata": {},
   "source": [
    "## Task 2 @ Processing signals from data/flow/mesa-sleep-0001.edf "
   ]
  },
  {
   "cell_type": "code",
   "execution_count": 6,
   "metadata": {},
   "outputs": [
    {
     "name": "stdout",
     "output_type": "stream",
     "text": [
      "['EKG', 'EOG-L', 'EOG-R', 'EMG', 'EEG1', 'EEG2', 'EEG3', 'Pres', 'Flow', 'Snore', 'Thor', 'Abdo', 'Leg', 'Therm', 'Pos', 'EKG_Off', 'EOG-L_Off', 'EOG-R_Off', 'EMG_Off', 'EEG1_Off', 'EEG2_Off', 'EEG3_Off', 'Pleth', 'OxStatus', 'SpO2', 'HR', 'DHR']\n"
     ]
    }
   ],
   "source": [
    "import pyedflib\n",
    "import numpy as np\n",
    "\n",
    "f = pyedflib.EdfReader(\"data/flow/mesa-sleep-0001.edf\")\n",
    "n = f.signals_in_file\n",
    "signal_labels = f.getSignalLabels()\n",
    "print(signal_labels)"
   ]
  },
  {
   "cell_type": "code",
   "execution_count": 7,
   "metadata": {},
   "outputs": [
    {
     "name": "stdout",
     "output_type": "stream",
     "text": [
      "edfsignals: 27\n",
      "file duration: 43199 seconds\n",
      "startdate: 1-1-1985\n",
      "starttime: 20:29:59\n"
     ]
    }
   ],
   "source": [
    "print(\"edfsignals: %i\" % f.signals_in_file)\n",
    "print(\"file duration: %i seconds\" % f.file_duration)\n",
    "print(\"startdate: %i-%i-%i\" % (f.getStartdatetime().day,f.getStartdatetime().month,f.getStartdatetime().year))\n",
    "print(\"starttime: %i:%02i:%02i\" % (f.getStartdatetime().hour,f.getStartdatetime().minute,f.getStartdatetime().second))"
   ]
  },
  {
   "cell_type": "code",
   "execution_count": 8,
   "metadata": {},
   "outputs": [
    {
     "name": "stdout",
     "output_type": "stream",
     "text": [
      "datarecord duration: 43199.000000 seconds\n",
      "number of datarecords in the file: 43199\n",
      "number of annotations in the file: 0\n"
     ]
    }
   ],
   "source": [
    "print(\"datarecord duration: %f seconds\" % f.getFileDuration())\n",
    "print(\"number of datarecords in the file: %i\" % f.datarecords_in_file)\n",
    "print(\"number of annotations in the file: %i\" % f.annotations_in_file)"
   ]
  },
  {
   "cell_type": "code",
   "execution_count": 9,
   "metadata": {},
   "outputs": [
    {
     "name": "stdout",
     "output_type": "stream",
     "text": [
      "\n",
      "signal parameters for the 1.channel:\n",
      "\n",
      "\n",
      "label: EOG-L\n",
      "samples in file: 11058944\n",
      "samplefrequency: 256.000000\n"
     ]
    }
   ],
   "source": [
    "channel = 1\n",
    "print(\"\\nsignal parameters for the %d.channel:\\n\\n\" % channel)\n",
    "print(\"label: %s\" % f.getLabel(channel))\n",
    "print(\"samples in file: %i\" % f.getNSamples()[channel])\n",
    "print(\"samplefrequency: %f\" % f.getSampleFrequency(channel))\n"
   ]
  },
  {
   "cell_type": "code",
   "execution_count": 10,
   "metadata": {},
   "outputs": [
    {
     "name": "stdout",
     "output_type": "stream",
     "text": [
      "\n",
      "signal parameters for the 8.channel:\n",
      "\n",
      "\n",
      "label: Flow\n",
      "samples in file: 1382368\n",
      "samplefrequency: 32.000000\n"
     ]
    }
   ],
   "source": [
    "channel = 8\n",
    "print(\"\\nsignal parameters for the %d.channel:\\n\\n\" % channel)\n",
    "print(\"label: %s\" % f.getLabel(channel))\n",
    "print(\"samples in file: %i\" % f.getNSamples()[channel])\n",
    "print(\"samplefrequency: %f\" % f.getSampleFrequency(channel))\n"
   ]
  },
  {
   "cell_type": "markdown",
   "metadata": {},
   "source": [
    "As we see Flow signal are in the 8th channel (starting with oth channel) and the number of samples is 1382368."
   ]
  },
  {
   "cell_type": "code",
   "execution_count": 11,
   "metadata": {},
   "outputs": [],
   "source": [
    "channel = 8\n",
    "FlowSignal = f.readSignal(channel)\n",
    "samples = 1382368\n",
    "samplefreq = 32"
   ]
  },
  {
   "cell_type": "code",
   "execution_count": 12,
   "metadata": {},
   "outputs": [],
   "source": [
    "datacols = ['Epoch', 'Flow']"
   ]
  },
  {
   "cell_type": "code",
   "execution_count": 13,
   "metadata": {},
   "outputs": [],
   "source": [
    "# Maping Flow signals to 13 decimal place\n",
    "Flow = list(map(lambda x: \"%.13f\" % FlowSignal[x], np.arange(samples)))\n",
    "\n",
    "# Epochs\n",
    "Epoch = list(map(lambda x: x/samplefreq, range(samples)))"
   ]
  },
  {
   "cell_type": "code",
   "execution_count": 14,
   "metadata": {},
   "outputs": [],
   "source": [
    "data2_dirct = {\n",
    "    'Epoch' : Epoch,\n",
    "    'Flow' : Flow\n",
    "}"
   ]
  },
  {
   "cell_type": "code",
   "execution_count": 15,
   "metadata": {},
   "outputs": [
    {
     "name": "stdout",
     "output_type": "stream",
     "text": [
      "               Epoch              Flow\n",
      "0            0.00000  -0.0698558022431\n",
      "1            0.03125  -0.0892652780957\n",
      "2            0.06250  -0.0901808194095\n",
      "3            0.09375  -0.0916456855116\n",
      "4            0.12500  -0.0938429846647\n",
      "5            0.15625  -0.0967727168688\n",
      "6            0.18750  -0.0982375829709\n",
      "7            0.21875  -0.0976882581827\n",
      "8            0.25000  -0.0958571755550\n",
      "9            0.28125  -0.0898146028840\n",
      "10           0.31250  -0.0823071641108\n",
      "11           0.34375  -0.0747997253376\n",
      "12           0.37500  -0.0654612039368\n",
      "13           0.40625  -0.0568551155871\n",
      "14           0.43750  -0.0557564660105\n",
      "15           0.46875  -0.0581368734264\n",
      "16           0.50000  -0.0579537651637\n",
      "17           0.53125  -0.0563057907988\n",
      "18           0.56250  -0.0581368734264\n",
      "19           0.59375  -0.0603341725795\n",
      "20           0.62500  -0.0607003891051\n",
      "21           0.65625  -0.0625314717327\n",
      "22           0.68750  -0.0685740444038\n",
      "23           0.71875  -0.0716868848707\n",
      "24           0.75000  -0.0700389105058\n",
      "25           0.78125  -0.0720531013962\n",
      "26           0.81250  -0.0760814831769\n",
      "27           0.84375  -0.0764476997024\n",
      "28           0.87500  -0.0779125658045\n",
      "29           0.90625  -0.0801098649577\n",
      "...              ...               ...\n",
      "1382338  43198.06250  -0.0015564202335\n",
      "1382339  43198.09375  -0.0002746623941\n",
      "1382340  43198.12500   0.0015564202335\n",
      "1382341  43198.15625   0.0024719615473\n",
      "1382342  43198.18750   0.0046692607004\n",
      "1382343  43198.21875   0.0046692607004\n",
      "1382344  43198.25000   0.0000915541314\n",
      "1382345  43198.28125  -0.0008239871824\n",
      "1382346  43198.31250   0.0033875028611\n",
      "1382347  43198.34375   0.0037537193866\n",
      "1382348  43198.37500  -0.0008239871824\n",
      "1382349  43198.40625  -0.0015564202335\n",
      "1382350  43198.43750   0.0021057450217\n",
      "1382351  43198.46875   0.0030212863355\n",
      "1382352  43198.50000   0.0000915541314\n",
      "1382353  43198.53125  -0.0004577706569\n",
      "1382354  43198.56250   0.0008239871824\n",
      "1382355  43198.59375   0.0000915541314\n",
      "1382356  43198.62500  -0.0011902037079\n",
      "1382357  43198.65625   0.0002746623941\n",
      "1382358  43198.68750   0.0008239871824\n",
      "1382359  43198.71875  -0.0015564202335\n",
      "1382360  43198.75000   0.0000915541314\n",
      "1382361  43198.78125   0.0030212863355\n",
      "1382362  43198.81250   0.0000915541314\n",
      "1382363  43198.84375  -0.0033875028611\n",
      "1382364  43198.87500   0.0004577706569\n",
      "1382365  43198.90625   0.0037537193866\n",
      "1382366  43198.93750   0.0015564202335\n",
      "1382367  43198.96875   0.0002746623941\n",
      "\n",
      "[1382368 rows x 2 columns]\n"
     ]
    }
   ],
   "source": [
    "data2 = pd.DataFrame(data2_dirct, columns=datacols)\n",
    "print(data2)"
   ]
  },
  {
   "cell_type": "code",
   "execution_count": 16,
   "metadata": {},
   "outputs": [],
   "source": [
    "data2.to_csv('out2.csv', index=False)"
   ]
  },
  {
   "cell_type": "markdown",
   "metadata": {},
   "source": [
    "## YAAAY!!!\n",
    "\n",
    "![alt text](https://media.giphy.com/media/13SSghvwNGGW9W/giphy.gif)\n",
    "\n",
    "\n",
    "## Tasks Update\n",
    "    [Note to self : Complete the tasks and git commit :P]\n",
    "\n",
    "   [x] Make a .csv file based on Hypopnea from data/apnea/data.xml (previously mesa-sleep-0001-profusion.xml)\n",
    "\n",
    "   [x] Convert the given mesa-sleep-0001.edf file into a csv file\n",
    "\n",
    "   [x] Make an analogy from .edf file to understand which column is flow(Flow data is sampled at 32 samples per second)\n",
    "\n",
    "   [x] Add the first column as time or Epoch, ime should start from 0 with consecutive steps of 1/32 second (see the output file requirement) \n",
    "\n",
    "   [ ] Export label/EventType Stages|Stages which has a stage, startTime, and duration of a stage as csv (see the output file format.)\n",
    "   \n",
    "   [ ] Combine all these three files together in one file (like output/combined/mesa-sleep-0001.csv)\n",
    "   \n",
    "   \n",
    "### Attributions \n",
    "Got a better understandind of EDF files [here](https://sleepdata.org/forum/getting-started-with-edf-files). The Documentation of [pyedflib module](https://github.com/holgern/pyedflib \"Why Just Hover?? The Documentation rocks\"), specially the demo on how to use pyedflib.reader :D"
   ]
  },
  {
   "cell_type": "markdown",
   "metadata": {},
   "source": [
    "# Deadline Update by mBreath\n",
    "![alt text](imgs/deadline.png)\n",
    "\n",
    "![alt text](https://media.giphy.com/media/eEHgdX9bZVZHW/giphy.gif)"
   ]
  },
  {
   "cell_type": "markdown",
   "metadata": {},
   "source": [
    "## Task 3 @ data processing with data/stage/mesa-sleep-0001-nsrr.xml"
   ]
  },
  {
   "cell_type": "code",
   "execution_count": 17,
   "metadata": {},
   "outputs": [
    {
     "data": {
      "text/plain": [
       "<xml.etree.ElementTree.ElementTree at 0x7f53dc5329b0>"
      ]
     },
     "execution_count": 17,
     "metadata": {},
     "output_type": "execute_result"
    }
   ],
   "source": [
    "data_xml = et.parse(\"data/stage/mesa-sleep-0001-nsrr.xml\")\n",
    "data_xml"
   ]
  },
  {
   "cell_type": "code",
   "execution_count": 18,
   "metadata": {},
   "outputs": [
    {
     "data": {
      "text/plain": [
       "'PSGAnnotation'"
      ]
     },
     "execution_count": 18,
     "metadata": {},
     "output_type": "execute_result"
    }
   ],
   "source": [
    "data3cols = ['Duration','Stages', 'Start', 'Type']\n",
    "data3 = pd.DataFrame(columns=data3cols)\n",
    "r = data_xml.getroot()\n",
    "r.tag"
   ]
  },
  {
   "cell_type": "code",
   "execution_count": 19,
   "metadata": {},
   "outputs": [],
   "source": [
    "for node in r.iter(\"ScoredEvent\"):\n",
    "    duration = node.find('Duration')\n",
    "    stages = node.find('EventType')\n",
    "    start = node.find('Start')\n",
    "    typee = node.find('EventConcept')\n",
    "\n",
    "    if(getvalueofnode(stages) == \"Stages|Stages\"):\n",
    "        data3 = data3.append(\n",
    "        pd.Series([getvalueofnode(duration), getvalueofnode(stages), getvalueofnode(start),\n",
    "                   getvalueofnode(typee)], index=data3cols),ignore_index=True)\n",
    "\n",
    "data3.to_csv('out3.csv', index=False)"
   ]
  },
  {
   "cell_type": "markdown",
   "metadata": {},
   "source": [
    "## Tasks Update\n",
    "    [Note to self : Complete the tasks and git commit :P]\n",
    "\n",
    "   [x] Make a .csv file based on Hypopnea from data/apnea/data.xml (previously mesa-sleep-0001-profusion.xml)\n",
    "\n",
    "   [x] Convert the given mesa-sleep-0001.edf file into a csv file\n",
    "\n",
    "   [x] Make an analogy from .edf file to understand which column is flow(Flow data is sampled at 32 samples per second)\n",
    "\n",
    "   [x] Add the first column as time or Epoch, ime should start from 0 with consecutive steps of 1/32 second (see the output file requirement) \n",
    "\n",
    "   [x] Export label/EventType Stages|Stages which has a stage, startTime, and duration of a stage as csv (see the output file format.)\n",
    "   \n",
    "   [ ] Combine all these three files together in one file (like output/combined/mesa-sleep-0001.csv)\n",
    "   \n",
    "   \n",
    "   "
   ]
  },
  {
   "cell_type": "markdown",
   "metadata": {},
   "source": [
    "## Combining these files together"
   ]
  },
  {
   "cell_type": "code",
   "execution_count": 20,
   "metadata": {},
   "outputs": [],
   "source": [
    "def getApnea(number):\n",
    "    for i in range(len(data.Start)):\n",
    "        num = float(number)\n",
    "        Start = float(data.Start[i])\n",
    "        Duration = float(data.Duration[i])\n",
    "        if (num>=Start and num<=(Start+Duration)):\n",
    "            return 1\n",
    "        \n",
    "    return 0"
   ]
  },
  {
   "cell_type": "code",
   "execution_count": 21,
   "metadata": {},
   "outputs": [],
   "source": [
    "def getType(str):\n",
    "    TheStage = {\n",
    "        'Wake|0' : 0,\n",
    "        'Stage 1 sleep|1' : 1,\n",
    "        'Stage 2 sleep|2' : 2,\n",
    "        'Stage 3 sleep|3' : 3,\n",
    "        'REM sleep|5' : 5\n",
    "    }\n",
    "    return TheStage[str]"
   ]
  },
  {
   "cell_type": "code",
   "execution_count": 25,
   "metadata": {},
   "outputs": [
    {
     "data": {
      "text/plain": [
       "0"
      ]
     },
     "execution_count": 25,
     "metadata": {},
     "output_type": "execute_result"
    }
   ],
   "source": [
    "# Test\n",
    "getType(data3.Type[0])"
   ]
  },
  {
   "cell_type": "code",
   "execution_count": 26,
   "metadata": {},
   "outputs": [],
   "source": [
    "def getStage(number):\n",
    "    for i in range(len(data3.Start)):\n",
    "        num = float(number)\n",
    "        Start = float(data3.Start[i])\n",
    "        Duration = float(data3.Duration[i])\n",
    "        if (num>=Start and num<=(Start+Duration)):\n",
    "            return getType(data3.Type[i])\n",
    "        \n",
    "    return None"
   ]
  },
  {
   "cell_type": "code",
   "execution_count": 27,
   "metadata": {},
   "outputs": [
    {
     "data": {
      "text/html": [
       "<div>\n",
       "<style scoped>\n",
       "    .dataframe tbody tr th:only-of-type {\n",
       "        vertical-align: middle;\n",
       "    }\n",
       "\n",
       "    .dataframe tbody tr th {\n",
       "        vertical-align: top;\n",
       "    }\n",
       "\n",
       "    .dataframe thead th {\n",
       "        text-align: right;\n",
       "    }\n",
       "</style>\n",
       "<table border=\"1\" class=\"dataframe\">\n",
       "  <thead>\n",
       "    <tr style=\"text-align: right;\">\n",
       "      <th></th>\n",
       "      <th>Time</th>\n",
       "      <th>Flow</th>\n",
       "      <th>Apnea</th>\n",
       "      <th>Stage</th>\n",
       "    </tr>\n",
       "  </thead>\n",
       "  <tbody>\n",
       "    <tr>\n",
       "      <th>0</th>\n",
       "      <td>0.00000</td>\n",
       "      <td>-0.0698558022431</td>\n",
       "      <td>0</td>\n",
       "      <td>0</td>\n",
       "    </tr>\n",
       "    <tr>\n",
       "      <th>1</th>\n",
       "      <td>0.03125</td>\n",
       "      <td>-0.0892652780957</td>\n",
       "      <td>0</td>\n",
       "      <td>0</td>\n",
       "    </tr>\n",
       "    <tr>\n",
       "      <th>2</th>\n",
       "      <td>0.06250</td>\n",
       "      <td>-0.0901808194095</td>\n",
       "      <td>0</td>\n",
       "      <td>0</td>\n",
       "    </tr>\n",
       "    <tr>\n",
       "      <th>3</th>\n",
       "      <td>0.09375</td>\n",
       "      <td>-0.0916456855116</td>\n",
       "      <td>0</td>\n",
       "      <td>0</td>\n",
       "    </tr>\n",
       "    <tr>\n",
       "      <th>4</th>\n",
       "      <td>0.12500</td>\n",
       "      <td>-0.0938429846647</td>\n",
       "      <td>0</td>\n",
       "      <td>0</td>\n",
       "    </tr>\n",
       "    <tr>\n",
       "      <th>5</th>\n",
       "      <td>0.15625</td>\n",
       "      <td>-0.0967727168688</td>\n",
       "      <td>0</td>\n",
       "      <td>0</td>\n",
       "    </tr>\n",
       "    <tr>\n",
       "      <th>6</th>\n",
       "      <td>0.18750</td>\n",
       "      <td>-0.0982375829709</td>\n",
       "      <td>0</td>\n",
       "      <td>0</td>\n",
       "    </tr>\n",
       "    <tr>\n",
       "      <th>7</th>\n",
       "      <td>0.21875</td>\n",
       "      <td>-0.0976882581827</td>\n",
       "      <td>0</td>\n",
       "      <td>0</td>\n",
       "    </tr>\n",
       "    <tr>\n",
       "      <th>8</th>\n",
       "      <td>0.25000</td>\n",
       "      <td>-0.0958571755550</td>\n",
       "      <td>0</td>\n",
       "      <td>0</td>\n",
       "    </tr>\n",
       "    <tr>\n",
       "      <th>9</th>\n",
       "      <td>0.28125</td>\n",
       "      <td>-0.0898146028840</td>\n",
       "      <td>0</td>\n",
       "      <td>0</td>\n",
       "    </tr>\n",
       "    <tr>\n",
       "      <th>10</th>\n",
       "      <td>0.31250</td>\n",
       "      <td>-0.0823071641108</td>\n",
       "      <td>0</td>\n",
       "      <td>0</td>\n",
       "    </tr>\n",
       "    <tr>\n",
       "      <th>11</th>\n",
       "      <td>0.34375</td>\n",
       "      <td>-0.0747997253376</td>\n",
       "      <td>0</td>\n",
       "      <td>0</td>\n",
       "    </tr>\n",
       "    <tr>\n",
       "      <th>12</th>\n",
       "      <td>0.37500</td>\n",
       "      <td>-0.0654612039368</td>\n",
       "      <td>0</td>\n",
       "      <td>0</td>\n",
       "    </tr>\n",
       "    <tr>\n",
       "      <th>13</th>\n",
       "      <td>0.40625</td>\n",
       "      <td>-0.0568551155871</td>\n",
       "      <td>0</td>\n",
       "      <td>0</td>\n",
       "    </tr>\n",
       "    <tr>\n",
       "      <th>14</th>\n",
       "      <td>0.43750</td>\n",
       "      <td>-0.0557564660105</td>\n",
       "      <td>0</td>\n",
       "      <td>0</td>\n",
       "    </tr>\n",
       "    <tr>\n",
       "      <th>15</th>\n",
       "      <td>0.46875</td>\n",
       "      <td>-0.0581368734264</td>\n",
       "      <td>0</td>\n",
       "      <td>0</td>\n",
       "    </tr>\n",
       "    <tr>\n",
       "      <th>16</th>\n",
       "      <td>0.50000</td>\n",
       "      <td>-0.0579537651637</td>\n",
       "      <td>0</td>\n",
       "      <td>0</td>\n",
       "    </tr>\n",
       "    <tr>\n",
       "      <th>17</th>\n",
       "      <td>0.53125</td>\n",
       "      <td>-0.0563057907988</td>\n",
       "      <td>0</td>\n",
       "      <td>0</td>\n",
       "    </tr>\n",
       "    <tr>\n",
       "      <th>18</th>\n",
       "      <td>0.56250</td>\n",
       "      <td>-0.0581368734264</td>\n",
       "      <td>0</td>\n",
       "      <td>0</td>\n",
       "    </tr>\n",
       "    <tr>\n",
       "      <th>19</th>\n",
       "      <td>0.59375</td>\n",
       "      <td>-0.0603341725795</td>\n",
       "      <td>0</td>\n",
       "      <td>0</td>\n",
       "    </tr>\n",
       "    <tr>\n",
       "      <th>20</th>\n",
       "      <td>0.62500</td>\n",
       "      <td>-0.0607003891051</td>\n",
       "      <td>0</td>\n",
       "      <td>0</td>\n",
       "    </tr>\n",
       "    <tr>\n",
       "      <th>21</th>\n",
       "      <td>0.65625</td>\n",
       "      <td>-0.0625314717327</td>\n",
       "      <td>0</td>\n",
       "      <td>0</td>\n",
       "    </tr>\n",
       "    <tr>\n",
       "      <th>22</th>\n",
       "      <td>0.68750</td>\n",
       "      <td>-0.0685740444038</td>\n",
       "      <td>0</td>\n",
       "      <td>0</td>\n",
       "    </tr>\n",
       "    <tr>\n",
       "      <th>23</th>\n",
       "      <td>0.71875</td>\n",
       "      <td>-0.0716868848707</td>\n",
       "      <td>0</td>\n",
       "      <td>0</td>\n",
       "    </tr>\n",
       "    <tr>\n",
       "      <th>24</th>\n",
       "      <td>0.75000</td>\n",
       "      <td>-0.0700389105058</td>\n",
       "      <td>0</td>\n",
       "      <td>0</td>\n",
       "    </tr>\n",
       "    <tr>\n",
       "      <th>25</th>\n",
       "      <td>0.78125</td>\n",
       "      <td>-0.0720531013962</td>\n",
       "      <td>0</td>\n",
       "      <td>0</td>\n",
       "    </tr>\n",
       "    <tr>\n",
       "      <th>26</th>\n",
       "      <td>0.81250</td>\n",
       "      <td>-0.0760814831769</td>\n",
       "      <td>0</td>\n",
       "      <td>0</td>\n",
       "    </tr>\n",
       "    <tr>\n",
       "      <th>27</th>\n",
       "      <td>0.84375</td>\n",
       "      <td>-0.0764476997024</td>\n",
       "      <td>0</td>\n",
       "      <td>0</td>\n",
       "    </tr>\n",
       "    <tr>\n",
       "      <th>28</th>\n",
       "      <td>0.87500</td>\n",
       "      <td>-0.0779125658045</td>\n",
       "      <td>0</td>\n",
       "      <td>0</td>\n",
       "    </tr>\n",
       "    <tr>\n",
       "      <th>29</th>\n",
       "      <td>0.90625</td>\n",
       "      <td>-0.0801098649577</td>\n",
       "      <td>0</td>\n",
       "      <td>0</td>\n",
       "    </tr>\n",
       "    <tr>\n",
       "      <th>...</th>\n",
       "      <td>...</td>\n",
       "      <td>...</td>\n",
       "      <td>...</td>\n",
       "      <td>...</td>\n",
       "    </tr>\n",
       "    <tr>\n",
       "      <th>470</th>\n",
       "      <td>14.68750</td>\n",
       "      <td>0.1299153124285</td>\n",
       "      <td>0</td>\n",
       "      <td>0</td>\n",
       "    </tr>\n",
       "    <tr>\n",
       "      <th>471</th>\n",
       "      <td>14.71875</td>\n",
       "      <td>0.1509727626459</td>\n",
       "      <td>0</td>\n",
       "      <td>0</td>\n",
       "    </tr>\n",
       "    <tr>\n",
       "      <th>472</th>\n",
       "      <td>14.75000</td>\n",
       "      <td>0.1647058823529</td>\n",
       "      <td>0</td>\n",
       "      <td>0</td>\n",
       "    </tr>\n",
       "    <tr>\n",
       "      <th>473</th>\n",
       "      <td>14.78125</td>\n",
       "      <td>0.1619592584115</td>\n",
       "      <td>0</td>\n",
       "      <td>0</td>\n",
       "    </tr>\n",
       "    <tr>\n",
       "      <th>474</th>\n",
       "      <td>14.81250</td>\n",
       "      <td>0.1493247882811</td>\n",
       "      <td>0</td>\n",
       "      <td>0</td>\n",
       "    </tr>\n",
       "    <tr>\n",
       "      <th>475</th>\n",
       "      <td>14.84375</td>\n",
       "      <td>0.1405355916686</td>\n",
       "      <td>0</td>\n",
       "      <td>0</td>\n",
       "    </tr>\n",
       "    <tr>\n",
       "      <th>476</th>\n",
       "      <td>14.87500</td>\n",
       "      <td>0.1359578850996</td>\n",
       "      <td>0</td>\n",
       "      <td>0</td>\n",
       "    </tr>\n",
       "    <tr>\n",
       "      <th>477</th>\n",
       "      <td>14.90625</td>\n",
       "      <td>0.1484092469673</td>\n",
       "      <td>0</td>\n",
       "      <td>0</td>\n",
       "    </tr>\n",
       "    <tr>\n",
       "      <th>478</th>\n",
       "      <td>14.93750</td>\n",
       "      <td>0.1861295490959</td>\n",
       "      <td>0</td>\n",
       "      <td>0</td>\n",
       "    </tr>\n",
       "    <tr>\n",
       "      <th>479</th>\n",
       "      <td>14.96875</td>\n",
       "      <td>0.2145113298238</td>\n",
       "      <td>0</td>\n",
       "      <td>0</td>\n",
       "    </tr>\n",
       "    <tr>\n",
       "      <th>480</th>\n",
       "      <td>15.00000</td>\n",
       "      <td>0.2048065918975</td>\n",
       "      <td>0</td>\n",
       "      <td>0</td>\n",
       "    </tr>\n",
       "    <tr>\n",
       "      <th>481</th>\n",
       "      <td>15.03125</td>\n",
       "      <td>0.1678187228199</td>\n",
       "      <td>0</td>\n",
       "      <td>0</td>\n",
       "    </tr>\n",
       "    <tr>\n",
       "      <th>482</th>\n",
       "      <td>15.06250</td>\n",
       "      <td>0.1253376058595</td>\n",
       "      <td>0</td>\n",
       "      <td>0</td>\n",
       "    </tr>\n",
       "    <tr>\n",
       "      <th>483</th>\n",
       "      <td>15.09375</td>\n",
       "      <td>0.1343099107347</td>\n",
       "      <td>0</td>\n",
       "      <td>0</td>\n",
       "    </tr>\n",
       "    <tr>\n",
       "      <th>484</th>\n",
       "      <td>15.12500</td>\n",
       "      <td>0.2698100251774</td>\n",
       "      <td>0</td>\n",
       "      <td>0</td>\n",
       "    </tr>\n",
       "    <tr>\n",
       "      <th>485</th>\n",
       "      <td>15.15625</td>\n",
       "      <td>0.4928358892195</td>\n",
       "      <td>0</td>\n",
       "      <td>0</td>\n",
       "    </tr>\n",
       "    <tr>\n",
       "      <th>486</th>\n",
       "      <td>15.18750</td>\n",
       "      <td>0.6501258869306</td>\n",
       "      <td>0</td>\n",
       "      <td>0</td>\n",
       "    </tr>\n",
       "    <tr>\n",
       "      <th>487</th>\n",
       "      <td>15.21875</td>\n",
       "      <td>0.6677042801556</td>\n",
       "      <td>0</td>\n",
       "      <td>0</td>\n",
       "    </tr>\n",
       "    <tr>\n",
       "      <th>488</th>\n",
       "      <td>15.25000</td>\n",
       "      <td>0.5994048981460</td>\n",
       "      <td>0</td>\n",
       "      <td>0</td>\n",
       "    </tr>\n",
       "    <tr>\n",
       "      <th>489</th>\n",
       "      <td>15.28125</td>\n",
       "      <td>0.4853284504463</td>\n",
       "      <td>0</td>\n",
       "      <td>0</td>\n",
       "    </tr>\n",
       "    <tr>\n",
       "      <th>490</th>\n",
       "      <td>15.31250</td>\n",
       "      <td>0.3254749370565</td>\n",
       "      <td>0</td>\n",
       "      <td>0</td>\n",
       "    </tr>\n",
       "    <tr>\n",
       "      <th>491</th>\n",
       "      <td>15.34375</td>\n",
       "      <td>0.1568322270542</td>\n",
       "      <td>0</td>\n",
       "      <td>0</td>\n",
       "    </tr>\n",
       "    <tr>\n",
       "      <th>492</th>\n",
       "      <td>15.37500</td>\n",
       "      <td>0.0319523918517</td>\n",
       "      <td>0</td>\n",
       "      <td>0</td>\n",
       "    </tr>\n",
       "    <tr>\n",
       "      <th>493</th>\n",
       "      <td>15.40625</td>\n",
       "      <td>-0.0440375371939</td>\n",
       "      <td>0</td>\n",
       "      <td>0</td>\n",
       "    </tr>\n",
       "    <tr>\n",
       "      <th>494</th>\n",
       "      <td>15.43750</td>\n",
       "      <td>-0.0872510872053</td>\n",
       "      <td>0</td>\n",
       "      <td>0</td>\n",
       "    </tr>\n",
       "    <tr>\n",
       "      <th>495</th>\n",
       "      <td>15.46875</td>\n",
       "      <td>-0.1055619134813</td>\n",
       "      <td>0</td>\n",
       "      <td>0</td>\n",
       "    </tr>\n",
       "    <tr>\n",
       "      <th>496</th>\n",
       "      <td>15.50000</td>\n",
       "      <td>-0.1068436713207</td>\n",
       "      <td>0</td>\n",
       "      <td>0</td>\n",
       "    </tr>\n",
       "    <tr>\n",
       "      <th>497</th>\n",
       "      <td>15.53125</td>\n",
       "      <td>-0.1046463721675</td>\n",
       "      <td>0</td>\n",
       "      <td>0</td>\n",
       "    </tr>\n",
       "    <tr>\n",
       "      <th>498</th>\n",
       "      <td>15.56250</td>\n",
       "      <td>-0.1079423208972</td>\n",
       "      <td>0</td>\n",
       "      <td>0</td>\n",
       "    </tr>\n",
       "    <tr>\n",
       "      <th>499</th>\n",
       "      <td>15.59375</td>\n",
       "      <td>-0.1156328679332</td>\n",
       "      <td>0</td>\n",
       "      <td>0</td>\n",
       "    </tr>\n",
       "  </tbody>\n",
       "</table>\n",
       "<p>500 rows × 4 columns</p>\n",
       "</div>"
      ],
      "text/plain": [
       "         Time              Flow Apnea Stage\n",
       "0     0.00000  -0.0698558022431     0     0\n",
       "1     0.03125  -0.0892652780957     0     0\n",
       "2     0.06250  -0.0901808194095     0     0\n",
       "3     0.09375  -0.0916456855116     0     0\n",
       "4     0.12500  -0.0938429846647     0     0\n",
       "5     0.15625  -0.0967727168688     0     0\n",
       "6     0.18750  -0.0982375829709     0     0\n",
       "7     0.21875  -0.0976882581827     0     0\n",
       "8     0.25000  -0.0958571755550     0     0\n",
       "9     0.28125  -0.0898146028840     0     0\n",
       "10    0.31250  -0.0823071641108     0     0\n",
       "11    0.34375  -0.0747997253376     0     0\n",
       "12    0.37500  -0.0654612039368     0     0\n",
       "13    0.40625  -0.0568551155871     0     0\n",
       "14    0.43750  -0.0557564660105     0     0\n",
       "15    0.46875  -0.0581368734264     0     0\n",
       "16    0.50000  -0.0579537651637     0     0\n",
       "17    0.53125  -0.0563057907988     0     0\n",
       "18    0.56250  -0.0581368734264     0     0\n",
       "19    0.59375  -0.0603341725795     0     0\n",
       "20    0.62500  -0.0607003891051     0     0\n",
       "21    0.65625  -0.0625314717327     0     0\n",
       "22    0.68750  -0.0685740444038     0     0\n",
       "23    0.71875  -0.0716868848707     0     0\n",
       "24    0.75000  -0.0700389105058     0     0\n",
       "25    0.78125  -0.0720531013962     0     0\n",
       "26    0.81250  -0.0760814831769     0     0\n",
       "27    0.84375  -0.0764476997024     0     0\n",
       "28    0.87500  -0.0779125658045     0     0\n",
       "29    0.90625  -0.0801098649577     0     0\n",
       "..        ...               ...   ...   ...\n",
       "470  14.68750   0.1299153124285     0     0\n",
       "471  14.71875   0.1509727626459     0     0\n",
       "472  14.75000   0.1647058823529     0     0\n",
       "473  14.78125   0.1619592584115     0     0\n",
       "474  14.81250   0.1493247882811     0     0\n",
       "475  14.84375   0.1405355916686     0     0\n",
       "476  14.87500   0.1359578850996     0     0\n",
       "477  14.90625   0.1484092469673     0     0\n",
       "478  14.93750   0.1861295490959     0     0\n",
       "479  14.96875   0.2145113298238     0     0\n",
       "480  15.00000   0.2048065918975     0     0\n",
       "481  15.03125   0.1678187228199     0     0\n",
       "482  15.06250   0.1253376058595     0     0\n",
       "483  15.09375   0.1343099107347     0     0\n",
       "484  15.12500   0.2698100251774     0     0\n",
       "485  15.15625   0.4928358892195     0     0\n",
       "486  15.18750   0.6501258869306     0     0\n",
       "487  15.21875   0.6677042801556     0     0\n",
       "488  15.25000   0.5994048981460     0     0\n",
       "489  15.28125   0.4853284504463     0     0\n",
       "490  15.31250   0.3254749370565     0     0\n",
       "491  15.34375   0.1568322270542     0     0\n",
       "492  15.37500   0.0319523918517     0     0\n",
       "493  15.40625  -0.0440375371939     0     0\n",
       "494  15.43750  -0.0872510872053     0     0\n",
       "495  15.46875  -0.1055619134813     0     0\n",
       "496  15.50000  -0.1068436713207     0     0\n",
       "497  15.53125  -0.1046463721675     0     0\n",
       "498  15.56250  -0.1079423208972     0     0\n",
       "499  15.59375  -0.1156328679332     0     0\n",
       "\n",
       "[500 rows x 4 columns]"
      ]
     },
     "execution_count": 27,
     "metadata": {},
     "output_type": "execute_result"
    }
   ],
   "source": [
    "OurRange = 500\n",
    "\n",
    "data4cols = ['Time', 'Flow', 'Apnea', 'Stage']\n",
    "data4 = pd.DataFrame(columns=data4cols)\n",
    "for i in range(OurRange):\n",
    "    Time = data2.Epoch[i]\n",
    "    Flow = data2.Flow[i]\n",
    "    Apnea = getApnea(data2.Epoch[i])\n",
    "    Stage = getStage(data2.Epoch[i])\n",
    "    \n",
    "    data4 = data4.append(pd.Series([Time, Flow, Apnea, Stage], index=data4cols),ignore_index=True)\n",
    "data4"
   ]
  },
  {
   "cell_type": "markdown",
   "metadata": {},
   "source": [
    "### Awesome\n",
    "Let's Give out the CSV file"
   ]
  },
  {
   "cell_type": "code",
   "execution_count": 28,
   "metadata": {},
   "outputs": [],
   "source": [
    "data4.to_csv('Combined.csv', index=False)"
   ]
  },
  {
   "cell_type": "code",
   "execution_count": null,
   "metadata": {},
   "outputs": [],
   "source": []
  }
 ],
 "metadata": {
  "kernelspec": {
   "display_name": "Python 3",
   "language": "python",
   "name": "python3"
  },
  "language_info": {
   "codemirror_mode": {
    "name": "ipython",
    "version": 3
   },
   "file_extension": ".py",
   "mimetype": "text/x-python",
   "name": "python",
   "nbconvert_exporter": "python",
   "pygments_lexer": "ipython3",
   "version": "3.6.5"
  }
 },
 "nbformat": 4,
 "nbformat_minor": 2
}
